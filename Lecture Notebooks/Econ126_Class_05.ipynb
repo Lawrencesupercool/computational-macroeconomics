{
 "cells": [
  {
   "cell_type": "code",
   "execution_count": 1,
   "metadata": {},
   "outputs": [],
   "source": [
    "import numpy as np\n",
    "import matplotlib.pyplot as plt\n",
    "plt.style.use('classic')\n",
    "%matplotlib inline"
   ]
  },
  {
   "cell_type": "markdown",
   "metadata": {},
   "source": [
    "# Class 5: Managing Data with Pandas \n",
    "\n",
    "Pandas is a Python library for managing datasets. Documentation and examples are available on the website for Pandas: http://pandas.pydata.org/. \n",
    "\n",
    "In this Notebook, we'll make use of a dataset containing long-run averages of inflation, money growth, and real GDP. The dataset is available here: https://www.briancjenkins.com/data/csv/qtyTheoryData.csv (Python code to generate the dataset: https://github.com/letsgoexploring/economic-data). Recall that the quantity theory of money implies the following linear relationship between the long-run rate of money growth, the long-run rate of inflation, and the long-run rate of real GDP growth in a country:\n",
    "\n",
    "\\begin{align}\n",
    "\\text{inflation} & = \\text{money growth} - \\text{real GDP growth},\n",
    "\\end{align}\n",
    "\n",
    "Generally, we treat real GDP growth and money supply growth as exogenous so this is a theory about the determination of inflation."
   ]
  },
  {
   "cell_type": "markdown",
   "metadata": {},
   "source": [
    "### Import Pandas"
   ]
  },
  {
   "cell_type": "code",
   "execution_count": 2,
   "metadata": {},
   "outputs": [],
   "source": [
    "import pandas as pd"
   ]
  },
  {
   "cell_type": "markdown",
   "metadata": {},
   "source": [
    "### Import data from a csv file\n",
    "\n",
    "Pandas has a function called `read_csv()` for reading data from a csv file into a Pandas `DataFrame` object."
   ]
  },
  {
   "cell_type": "code",
   "execution_count": 3,
   "metadata": {},
   "outputs": [],
   "source": [
    "# Import quantity theory data into a Pandas DataFrame called 'df' with country names as the index.\n",
    "\n",
    "# Directly from internet\n",
    "df = pd.read_csv('https://www.briancjenkins.com/data/csv/qtyTheoryData.csv')\n",
    "\n",
    "# From current working directory\n",
    "# df = pd.read_csv('qtyTheoryData.csv')"
   ]
  },
  {
   "cell_type": "code",
   "execution_count": 4,
   "metadata": {},
   "outputs": [
    {
     "name": "stdout",
     "output_type": "stream",
     "text": [
      "               country iso code  observations  inflation  money growth  \\\n",
      "0              Albania      ALB            21    0.05186       0.12230   \n",
      "1              Algeria      DZA            51    0.10688       0.16024   \n",
      "2               Angola      AGO            20    0.82783       1.00940   \n",
      "3  Antigua and Barbuda      ATG            38    0.03943       0.09630   \n",
      "4            Argentina      ARG            54    0.73168       0.77245   \n",
      "\n",
      "   gdp growth  \n",
      "0     0.04594  \n",
      "1     0.03818  \n",
      "2     0.08146  \n",
      "3     0.03575  \n",
      "4     0.02422  \n"
     ]
    }
   ],
   "source": [
    "# Print the first 5 rows\n",
    "print(df.head())"
   ]
  },
  {
   "cell_type": "code",
   "execution_count": 5,
   "metadata": {},
   "outputs": [
    {
     "name": "stdout",
     "output_type": "stream",
     "text": [
      "                  country iso code  observations  inflation  money growth  \\\n",
      "168               Ukraine      UKR            23    0.58513       0.55392   \n",
      "169  United Arab Emirates      ARE            40    0.03566       0.13659   \n",
      "170         United States      USA            54    0.03377       0.05644   \n",
      "171               Uruguay      URY            54    0.36846       0.40479   \n",
      "172               Vanuatu      VUT            36    0.03509       0.08102   \n",
      "173         Venezuela, RB      VEN            53    0.20298       0.26996   \n",
      "174    West Bank and Gaza      PSE            17    0.03632       0.11749   \n",
      "175           Yemen, Rep.      YEM            24    0.14113       0.13238   \n",
      "176                Zambia      ZMB            27    0.21917       0.23465   \n",
      "177              Zimbabwe      ZWE            32   -0.00124      -0.12919   \n",
      "\n",
      "     gdp growth  \n",
      "168    -0.01023  \n",
      "169     0.04688  \n",
      "170     0.03081  \n",
      "171     0.02251  \n",
      "172     0.02889  \n",
      "173     0.02740  \n",
      "174     0.03186  \n",
      "175     0.03838  \n",
      "176     0.01163  \n",
      "177     0.00813  \n"
     ]
    }
   ],
   "source": [
    "# Print the last 10 rows\n",
    "print(df.tail(10))"
   ]
  },
  {
   "cell_type": "code",
   "execution_count": 6,
   "metadata": {},
   "outputs": [
    {
     "name": "stdout",
     "output_type": "stream",
     "text": [
      "<class 'pandas.core.frame.DataFrame'>\n"
     ]
    }
   ],
   "source": [
    "# Print the type of variable 'df'\n",
    "print(type(df))"
   ]
  },
  {
   "cell_type": "markdown",
   "metadata": {},
   "source": [
    "### Properties of `DataFrame` objects\n",
    "\n",
    "Like entries in a spreadsheet file, elements in a `DataFrame` object have row (or *index*) and column coordinates. Column names are always strings. Index elements can be integers, strings, or dates."
   ]
  },
  {
   "cell_type": "code",
   "execution_count": 7,
   "metadata": {},
   "outputs": [
    {
     "name": "stdout",
     "output_type": "stream",
     "text": [
      "Index(['country', 'iso code', 'observations', 'inflation', 'money growth',\n",
      "       'gdp growth'],\n",
      "      dtype='object')\n"
     ]
    }
   ],
   "source": [
    "# Print the columns of df\n",
    "print(df.columns)"
   ]
  },
  {
   "cell_type": "code",
   "execution_count": 8,
   "metadata": {},
   "outputs": [
    {
     "name": "stdout",
     "output_type": "stream",
     "text": [
      "0      0.12230\n",
      "1      0.16024\n",
      "2      1.00940\n",
      "3      0.09630\n",
      "4      0.77245\n",
      "5      0.46411\n",
      "6      0.08128\n",
      "7      0.10181\n",
      "8      0.07491\n",
      "9      0.50149\n",
      "10     0.06965\n",
      "11     0.08263\n",
      "12     0.13523\n",
      "13     0.10833\n",
      "14     0.61733\n",
      "15     0.06306\n",
      "16     0.11148\n",
      "17     0.10734\n",
      "18     0.18748\n",
      "19     0.42180\n",
      "20     0.19611\n",
      "21     0.15783\n",
      "22     0.89717\n",
      "23     0.02883\n",
      "24     0.34614\n",
      "25     0.10509\n",
      "26     0.13430\n",
      "27     0.09847\n",
      "28     0.21306\n",
      "29     0.09689\n",
      "        ...   \n",
      "148    0.12114\n",
      "149    0.14659\n",
      "150    0.09518\n",
      "151    0.09639\n",
      "152    0.29333\n",
      "153    0.29243\n",
      "154    0.14436\n",
      "155    0.10587\n",
      "156    0.06059\n",
      "157    0.15539\n",
      "158    0.30609\n",
      "159    0.20918\n",
      "160    0.09645\n",
      "161    0.18530\n",
      "162    0.09973\n",
      "163    0.09616\n",
      "164    0.11841\n",
      "165    0.10958\n",
      "166    0.37305\n",
      "167    0.36831\n",
      "168    0.55392\n",
      "169    0.13659\n",
      "170    0.05644\n",
      "171    0.40479\n",
      "172    0.08102\n",
      "173    0.26996\n",
      "174    0.11749\n",
      "175    0.13238\n",
      "176    0.23465\n",
      "177   -0.12919\n",
      "Name: money growth, Length: 178, dtype: float64\n"
     ]
    }
   ],
   "source": [
    "# Create a new variable called money equal to the 'money growth' column and print\n",
    "money = df['money growth']\n",
    "print(money)"
   ]
  },
  {
   "cell_type": "code",
   "execution_count": 9,
   "metadata": {},
   "outputs": [
    {
     "name": "stdout",
     "output_type": "stream",
     "text": [
      "<class 'pandas.core.series.Series'>\n"
     ]
    }
   ],
   "source": [
    "# Print the type of the variable money\n",
    "print(type(money))"
   ]
  },
  {
   "cell_type": "markdown",
   "metadata": {},
   "source": [
    "A Pandas `Series` stores one column of data. Like a `DataFrame`, a `Series` object has an index. Note that `money` has the same index as `df`. Instead of having a column, the `Series` has a `name` attribute."
   ]
  },
  {
   "cell_type": "code",
   "execution_count": 10,
   "metadata": {},
   "outputs": [
    {
     "name": "stdout",
     "output_type": "stream",
     "text": [
      "money growth\n"
     ]
    }
   ],
   "source": [
    "# Print the name of the 'money' variable\n",
    "print(money.name)"
   ]
  },
  {
   "cell_type": "markdown",
   "metadata": {},
   "source": [
    "Select multiple columns of a `DataFrame` by puting the desired column names in a set a of square brackets (i.e., in a `list`)."
   ]
  },
  {
   "cell_type": "code",
   "execution_count": 11,
   "metadata": {},
   "outputs": [
    {
     "name": "stdout",
     "output_type": "stream",
     "text": [
      "   inflation  money growth  gdp growth\n",
      "0    0.05186       0.12230     0.04594\n",
      "1    0.10688       0.16024     0.03818\n",
      "2    0.82783       1.00940     0.08146\n",
      "3    0.03943       0.09630     0.03575\n",
      "4    0.73168       0.77245     0.02422\n"
     ]
    }
   ],
   "source": [
    "# Print the first 5 rows of just the inflation, money growth, and gdp growth columns\n",
    "print(df[['inflation','money growth','gdp growth']].head())"
   ]
  },
  {
   "cell_type": "markdown",
   "metadata": {},
   "source": [
    "As mentioned, the set of row coordinates is the index. Unless specified otherwise, Pandas automatically assigns an integer index starting at 0 to rows of the `DataFrame`."
   ]
  },
  {
   "cell_type": "code",
   "execution_count": 12,
   "metadata": {},
   "outputs": [
    {
     "name": "stdout",
     "output_type": "stream",
     "text": [
      "RangeIndex(start=0, stop=178, step=1)\n"
     ]
    }
   ],
   "source": [
    "# Print the index of 'df'\n",
    "print(df.index)"
   ]
  },
  {
   "cell_type": "markdown",
   "metadata": {},
   "source": [
    "Note that in the index of the `df` is the numbers 0 through 177. We could have specified a different index when we imported the data using `read_csv()`. For example, suppose we want to the country names to be the index of `df`. Since country names are in the first column of the data file, we can pass the argument `index_col=0` to `read_csv()`"
   ]
  },
  {
   "cell_type": "code",
   "execution_count": 13,
   "metadata": {},
   "outputs": [
    {
     "name": "stdout",
     "output_type": "stream",
     "text": [
      "                    iso code  observations  inflation  money growth  \\\n",
      "country                                                               \n",
      "Albania                  ALB            21    0.05186       0.12230   \n",
      "Algeria                  DZA            51    0.10688       0.16024   \n",
      "Angola                   AGO            20    0.82783       1.00940   \n",
      "Antigua and Barbuda      ATG            38    0.03943       0.09630   \n",
      "Argentina                ARG            54    0.73168       0.77245   \n",
      "\n",
      "                     gdp growth  \n",
      "country                          \n",
      "Albania                 0.04594  \n",
      "Algeria                 0.03818  \n",
      "Angola                  0.08146  \n",
      "Antigua and Barbuda     0.03575  \n",
      "Argentina               0.02422  \n"
     ]
    }
   ],
   "source": [
    "# Import quantity theory data into a Pandas DataFrame called 'df' with country names as the index.\n",
    "df = pd.read_csv('https://www.briancjenkins.com/data/csv/qtyTheoryData.csv',index_col=0)\n",
    "\n",
    "# Print first 5 rows of df\n",
    "print(df.head())"
   ]
  },
  {
   "cell_type": "markdown",
   "metadata": {},
   "source": [
    "Use the `loc` attribute to select rows of the `DataFrame` by index *values*."
   ]
  },
  {
   "cell_type": "code",
   "execution_count": 14,
   "metadata": {},
   "outputs": [
    {
     "name": "stdout",
     "output_type": "stream",
     "text": [
      "iso code            USA\n",
      "observations         54\n",
      "inflation       0.03377\n",
      "money growth    0.05644\n",
      "gdp growth      0.03081\n",
      "Name: United States, dtype: object\n"
     ]
    }
   ],
   "source": [
    "# Create a new variable called 'df_usa' equal to the 'United States' row and print\n",
    "df_usa = df.loc['United States']\n",
    "print(df_usa)"
   ]
  },
  {
   "cell_type": "markdown",
   "metadata": {},
   "source": [
    "Use `iloc` attribute to select row based on integer location (starting from 0)."
   ]
  },
  {
   "cell_type": "code",
   "execution_count": 15,
   "metadata": {},
   "outputs": [
    {
     "name": "stdout",
     "output_type": "stream",
     "text": [
      "iso code            AGO\n",
      "observations         20\n",
      "inflation       0.82783\n",
      "money growth     1.0094\n",
      "gdp growth      0.08146\n",
      "Name: Angola, dtype: object\n"
     ]
    }
   ],
   "source": [
    "# Create a new variable called 'df_third' equal to the third row in the DataFrame and print\n",
    "df_first = df.iloc[2]\n",
    "print(df_first)"
   ]
  },
  {
   "cell_type": "markdown",
   "metadata": {},
   "source": [
    "There are several ways to return a single element of a Pandas `DataFrame`. For example, here are three that we want to return the value of inflation for the United States from the DataFrame `df`:\n",
    "\n",
    "1. `df.loc['United States','inflation']`\n",
    "2. `df.loc['United States']['inflation']`\n",
    "3. `df['inflation'].loc['United States']`\n",
    "\n",
    "The first method points directly to the element in the `df` while the second and third methods return *copies* of the element. That means that you can modify the value of inflation for the United States by running:\n",
    "\n",
    "    df.loc['United States','inflation'] = new_value\n",
    "    \n",
    "But running either:\n",
    "\n",
    "    df.loc['United States']['inflation'] = new_value\n",
    "    \n",
    "or:\n",
    "\n",
    "    df['inflation'].loc['United States'] = new_value\n",
    "\n",
    "will return an error."
   ]
  },
  {
   "cell_type": "code",
   "execution_count": 16,
   "metadata": {},
   "outputs": [
    {
     "name": "stdout",
     "output_type": "stream",
     "text": [
      "Long-run average inflation in US:  0.03377\n"
     ]
    }
   ],
   "source": [
    "# Print the inflation rate of the United States  (By index and column together)\n",
    "print('Long-run average inflation in US: ',df.loc['United States','inflation'])"
   ]
  },
  {
   "cell_type": "code",
   "execution_count": 17,
   "metadata": {},
   "outputs": [
    {
     "name": "stdout",
     "output_type": "stream",
     "text": [
      "Long-run average inflation in US:  0.03377\n"
     ]
    }
   ],
   "source": [
    "# Print the inflation rate of the United States (first by index, then by column)\n",
    "print('Long-run average inflation in US: ',df.loc['United States']['inflation'])"
   ]
  },
  {
   "cell_type": "code",
   "execution_count": 18,
   "metadata": {},
   "outputs": [
    {
     "name": "stdout",
     "output_type": "stream",
     "text": [
      "Long-run average inflation in US:  0.03377\n"
     ]
    }
   ],
   "source": [
    "# Print the inflation rate of the United States  (first by column, then by index)\n",
    "print('Long-run average inflation in US: ',df['inflation'].loc['United States'])"
   ]
  },
  {
   "cell_type": "markdown",
   "metadata": {},
   "source": [
    "New columns are easily created as functions of existing columns."
   ]
  },
  {
   "cell_type": "code",
   "execution_count": 19,
   "metadata": {},
   "outputs": [
    {
     "name": "stdout",
     "output_type": "stream",
     "text": [
      "country\n",
      "Albania                           0.07044\n",
      "Algeria                           0.05336\n",
      "Angola                            0.18157\n",
      "Antigua and Barbuda               0.05687\n",
      "Argentina                         0.04077\n",
      "Armenia                           0.02154\n",
      "Aruba                             0.04959\n",
      "Australia                         0.05106\n",
      "Austria                           0.05845\n",
      "Azerbaijan                        0.07387\n",
      "Bahamas, The                      0.02115\n",
      "Bahrain                           0.05318\n",
      "Bangladesh                        0.05657\n",
      "Barbados                          0.04723\n",
      "Belarus                           0.02929\n",
      "Belgium                           0.04654\n",
      "Belize                            0.08926\n",
      "Benin                             0.05905\n",
      "Bhutan                            0.12045\n",
      "Bolivia                           0.08569\n",
      "Bosnia and Herzegovina            0.15565\n",
      "Botswana                          0.06462\n",
      "Brazil                            0.03037\n",
      "Brunei Darussalam                -0.02624\n",
      "Bulgaria                          0.06415\n",
      "Burkina Faso                      0.06647\n",
      "Burundi                           0.04095\n",
      "Cabo Verde                        0.06715\n",
      "Cambodia                          0.15604\n",
      "Cameroon                          0.04300\n",
      "                                   ...   \n",
      "Sri Lanka                         0.02800\n",
      "St. Kitts and Nevis               0.11041\n",
      "St. Lucia                         0.05407\n",
      "St. Vincent and the Grenadines    0.04987\n",
      "Sudan                             0.04654\n",
      "Suriname                          0.03204\n",
      "Swaziland                         0.05194\n",
      "Sweden                            0.03408\n",
      "Switzerland                       0.04355\n",
      "Syrian Arab Republic              0.06709\n",
      "Tajikistan                        0.13993\n",
      "Tanzania                          0.06030\n",
      "Thailand                          0.05509\n",
      "Timor-Leste                       0.09552\n",
      "Togo                              0.05267\n",
      "Tonga                             0.04220\n",
      "Trinidad and Tobago               0.04894\n",
      "Tunisia                           0.05190\n",
      "Turkey                            0.06002\n",
      "Uganda                            0.09962\n",
      "Ukraine                          -0.03121\n",
      "United Arab Emirates              0.10093\n",
      "United States                     0.02267\n",
      "Uruguay                           0.03633\n",
      "Vanuatu                           0.04593\n",
      "Venezuela, RB                     0.06698\n",
      "West Bank and Gaza                0.08117\n",
      "Yemen, Rep.                      -0.00875\n",
      "Zambia                            0.01548\n",
      "Zimbabwe                         -0.12795\n",
      "Name: difference, Length: 178, dtype: float64\n"
     ]
    }
   ],
   "source": [
    "# Create a new column called 'difference' equal to the money growth column minus \n",
    "# the inflation column and print the modified DataFrame\n",
    "df['difference'] = df['money growth'] - df['inflation']\n",
    "print(df['difference'])"
   ]
  },
  {
   "cell_type": "code",
   "execution_count": 20,
   "metadata": {},
   "outputs": [
    {
     "name": "stdout",
     "output_type": "stream",
     "text": [
      "0.06082084269662919\n"
     ]
    }
   ],
   "source": [
    "# Print the average difference between money growth and inflation\n",
    "print(df.difference.mean())"
   ]
  },
  {
   "cell_type": "code",
   "execution_count": 21,
   "metadata": {},
   "outputs": [
    {
     "name": "stdout",
     "output_type": "stream",
     "text": [
      "                               iso code  inflation  money growth  gdp growth\n",
      "country                                                                     \n",
      "Albania                             ALB    0.05186       0.12230     0.04594\n",
      "Algeria                             DZA    0.10688       0.16024     0.03818\n",
      "Angola                              AGO    0.82783       1.00940     0.08146\n",
      "Antigua and Barbuda                 ATG    0.03943       0.09630     0.03575\n",
      "Argentina                           ARG    0.73168       0.77245     0.02422\n",
      "Armenia                             ARM    0.44257       0.46411     0.05471\n",
      "Aruba                               ABW    0.03169       0.08128     0.00825\n",
      "Australia                           AUS    0.05075       0.10181     0.03461\n",
      "Austria                             AUT    0.01646       0.07491     0.01446\n",
      "Azerbaijan                          AZE    0.42762       0.50149     0.05468\n",
      "Bahamas, The                        BHS    0.04850       0.06965     0.01829\n",
      "Bahrain                             BHR    0.02945       0.08263     0.03984\n",
      "Bangladesh                          BGD    0.07866       0.13523     0.04486\n",
      "Barbados                            BRB    0.06110       0.10833     0.02450\n",
      "Belarus                             BLR    0.58804       0.61733     0.04919\n",
      "Belgium                             BEL    0.01652       0.06306     0.01456\n",
      "Belize                              BLZ    0.02222       0.11148     0.04995\n",
      "Benin                               BEN    0.04829       0.10734     0.03684\n",
      "Bhutan                              BTN    0.06703       0.18748     0.07094\n",
      "Bolivia                             BOL    0.33611       0.42180     0.03016\n",
      "Bosnia and Herzegovina              BIH    0.04046       0.19611     0.04219\n",
      "Botswana                            BWA    0.09321       0.15783     0.06992\n",
      "Brazil                              BRA    0.86680       0.89717     0.04129\n",
      "Brunei Darussalam                   BRN    0.05507       0.02883     0.01031\n",
      "Bulgaria                            BGR    0.28199       0.34614     0.01943\n",
      "Burkina Faso                        BFA    0.03862       0.10509     0.04196\n",
      "Burundi                             BDI    0.09335       0.13430     0.02690\n",
      "Cabo Verde                          CPV    0.03132       0.09847     0.06541\n",
      "Cambodia                            KHM    0.05702       0.21306     0.04995\n",
      "Cameroon                            CMR    0.05389       0.09689     0.03480\n",
      "...                                 ...        ...           ...         ...\n",
      "Sri Lanka                           LKA    0.09314       0.12114     0.04756\n",
      "St. Kitts and Nevis                 KNA    0.03618       0.14659     0.03959\n",
      "St. Lucia                           LCA    0.04111       0.09518     0.03606\n",
      "St. Vincent and the Grenadines      VCT    0.04652       0.09639     0.03776\n",
      "Sudan                               SDN    0.24679       0.29333     0.03785\n",
      "Suriname                            SUR    0.26039       0.29243     0.01445\n",
      "Swaziland                           SWZ    0.09242       0.14436     0.04881\n",
      "Sweden                              SWE    0.07179       0.10587     0.02789\n",
      "Switzerland                         CHE    0.01704       0.06059     0.01700\n",
      "Syrian Arab Republic                SYR    0.08830       0.15539     0.05270\n",
      "Tajikistan                          TJK    0.16616       0.30609     0.07200\n",
      "Tanzania                            TZA    0.14888       0.20918     0.04978\n",
      "Thailand                            THA    0.04136       0.09645     0.05997\n",
      "Timor-Leste                         TLS    0.08978       0.18530     0.07596\n",
      "Togo                                TGO    0.04706       0.09973     0.03432\n",
      "Tonga                               TON    0.05396       0.09616     0.01657\n",
      "Trinidad and Tobago                 TTO    0.06947       0.11841     0.02876\n",
      "Tunisia                             TUN    0.05768       0.10958     0.04585\n",
      "Turkey                              TUR    0.31303       0.37305     0.04647\n",
      "Uganda                              UGA    0.26869       0.36831     0.05673\n",
      "Ukraine                             UKR    0.58513       0.55392    -0.01023\n",
      "United Arab Emirates                ARE    0.03566       0.13659     0.04688\n",
      "United States                       USA    0.03377       0.05644     0.03081\n",
      "Uruguay                             URY    0.36846       0.40479     0.02251\n",
      "Vanuatu                             VUT    0.03509       0.08102     0.02889\n",
      "Venezuela, RB                       VEN    0.20298       0.26996     0.02740\n",
      "West Bank and Gaza                  PSE    0.03632       0.11749     0.03186\n",
      "Yemen, Rep.                         YEM    0.14113       0.13238     0.03838\n",
      "Zambia                              ZMB    0.21917       0.23465     0.01163\n",
      "Zimbabwe                            ZWE   -0.00124      -0.12919     0.00813\n",
      "\n",
      "[178 rows x 4 columns]\n"
     ]
    }
   ],
   "source": [
    "# Remove the following columns from the DataFrame: 'iso code','observations','difference'\n",
    "df = df.drop(['observations','difference'],axis=1)\n",
    "\n",
    "# Print the modified DataFrame\n",
    "print(df)"
   ]
  },
  {
   "cell_type": "markdown",
   "metadata": {},
   "source": [
    "### Methods\n",
    "\n",
    "A Pandas `DataFrame` has a bunch of useful methods defined for it. `describe()` returns some summary statistics."
   ]
  },
  {
   "cell_type": "code",
   "execution_count": 22,
   "metadata": {},
   "outputs": [
    {
     "name": "stdout",
     "output_type": "stream",
     "text": [
      "        inflation  money growth  gdp growth\n",
      "count  178.000000    178.000000  178.000000\n",
      "mean     0.123952      0.184773    0.036382\n",
      "std      0.165354      0.163258    0.021763\n",
      "min     -0.001240     -0.129190   -0.023680\n",
      "25%      0.041170      0.099833    0.023447\n",
      "50%      0.068250      0.137390    0.036875\n",
      "75%      0.125903      0.198862    0.046857\n",
      "max      1.220970      1.171190    0.159540\n"
     ]
    }
   ],
   "source": [
    "# Print the summary statistics for 'df'\n",
    "print(df.describe())"
   ]
  },
  {
   "cell_type": "markdown",
   "metadata": {},
   "source": [
    "The `corr()` method returns a `DataFrame` containing the correlation coefficients of the specified `DataFrame`."
   ]
  },
  {
   "cell_type": "code",
   "execution_count": 23,
   "metadata": {},
   "outputs": [
    {
     "name": "stdout",
     "output_type": "stream",
     "text": [
      "              inflation  money growth  gdp growth\n",
      "inflation      1.000000      0.972160   -0.043356\n",
      "money growth   0.972160      1.000000    0.084328\n",
      "gdp growth    -0.043356      0.084328    1.000000\n"
     ]
    }
   ],
   "source": [
    "# Create a variable called 'correlations' containg the correlation coefficients for columns in 'df'\n",
    "correlations = df.corr()\n",
    "\n",
    "# Print the correlation coefficients\n",
    "print(correlations)"
   ]
  },
  {
   "cell_type": "code",
   "execution_count": 24,
   "metadata": {},
   "outputs": [
    {
     "name": "stdout",
     "output_type": "stream",
     "text": [
      "corr of inflation and money growth:  0.9722\n",
      "corr of inflation and gdp growth:    -0.0434\n",
      "corr of money growth and gdp growth: 0.0843\n"
     ]
    }
   ],
   "source": [
    "# Print the correlation coefficient for inflation and money growth\n",
    "print('corr of inflation and money growth: ',round(correlations.loc['inflation','money growth'],4))\n",
    "\n",
    "# Print the correlation coefficient for inflation and real GDP growth\n",
    "print('corr of inflation and gdp growth:   ',round(correlations.loc['inflation','gdp growth'],4))\n",
    "\n",
    "# Print the correlation coefficient for money growth and real GDP growth\n",
    "print('corr of money growth and gdp growth:',round(correlations.loc['money growth','gdp growth'],4))"
   ]
  },
  {
   "cell_type": "markdown",
   "metadata": {},
   "source": [
    "`sort_values()` returns a copy of the original `DataFrame` sorted along the given column. The optional argument `ascending` is set to `True` by default, but can be changed to `False` if you want to print the lowest first."
   ]
  },
  {
   "cell_type": "code",
   "execution_count": 25,
   "metadata": {
    "scrolled": false
   },
   "outputs": [
    {
     "name": "stdout",
     "output_type": "stream",
     "text": [
      "                     iso code  inflation  money growth  gdp growth\n",
      "country                                                           \n",
      "Zimbabwe                  ZWE   -0.00124      -0.12919     0.00813\n",
      "Djibouti                  DJI    0.00033       0.07611     0.01616\n",
      "Germany                   DEU    0.01049       0.07344     0.01155\n",
      "Ireland                   IRL    0.01375       0.12348     0.03326\n",
      "Hong Kong SAR, China      HKG    0.01391       0.09846     0.03618\n",
      "France                    FRA    0.01461       0.06584     0.01233\n",
      "Kosovo                    KSV    0.01540       0.08659     0.03359\n",
      "Greece                    GRC    0.01611       0.01423    -0.00452\n",
      "Austria                   AUT    0.01646       0.07491     0.01446\n",
      "Finland                   FIN    0.01647       0.06528     0.01387\n"
     ]
    }
   ],
   "source": [
    "# Print rows for the countries with the 10 lowest inflation rates\n",
    "print(df.sort_values('inflation').head(10))"
   ]
  },
  {
   "cell_type": "code",
   "execution_count": 26,
   "metadata": {},
   "outputs": [
    {
     "name": "stdout",
     "output_type": "stream",
     "text": [
      "                 iso code  inflation  money growth  gdp growth\n",
      "country                                                       \n",
      "Congo, Dem. Rep.      COD    1.22097       1.17119    -0.00232\n",
      "Brazil                BRA    0.86680       0.89717     0.04129\n",
      "Angola                AGO    0.82783       1.00940     0.08146\n",
      "Argentina             ARG    0.73168       0.77245     0.02422\n",
      "Nicaragua             NIC    0.61301       0.66175     0.02475\n",
      "Belarus               BLR    0.58804       0.61733     0.04919\n",
      "Ukraine               UKR    0.58513       0.55392    -0.01023\n",
      "Peru                  PER    0.47231       0.53655     0.03444\n",
      "Armenia               ARM    0.44257       0.46411     0.05471\n",
      "Azerbaijan            AZE    0.42762       0.50149     0.05468\n"
     ]
    }
   ],
   "source": [
    "# Print rows for the countries with the 10 highest inflation rates\n",
    "print(df.sort_values('inflation',ascending=False).head(10))"
   ]
  },
  {
   "cell_type": "markdown",
   "metadata": {},
   "source": [
    "Note that `sort_values` and `sort_index` return *copies* of the original `DataFrame`. If, in the previous example, we had wanted to actually modify `df`, we would have need to explicitly overwrite it:\n",
    "\n",
    "    df = df.sort_index(ascending=False)"
   ]
  },
  {
   "cell_type": "code",
   "execution_count": 27,
   "metadata": {},
   "outputs": [
    {
     "name": "stdout",
     "output_type": "stream",
     "text": [
      "                     iso code  inflation  money growth  gdp growth\n",
      "country                                                           \n",
      "Zimbabwe                  ZWE   -0.00124      -0.12919     0.00813\n",
      "Zambia                    ZMB    0.21917       0.23465     0.01163\n",
      "Yemen, Rep.               YEM    0.14113       0.13238     0.03838\n",
      "West Bank and Gaza        PSE    0.03632       0.11749     0.03186\n",
      "Venezuela, RB             VEN    0.20298       0.26996     0.02740\n",
      "Vanuatu                   VUT    0.03509       0.08102     0.02889\n",
      "Uruguay                   URY    0.36846       0.40479     0.02251\n",
      "United States             USA    0.03377       0.05644     0.03081\n",
      "United Arab Emirates      ARE    0.03566       0.13659     0.04688\n",
      "Ukraine                   UKR    0.58513       0.55392    -0.01023\n"
     ]
    }
   ],
   "source": [
    "# Print first 10 rows with the index sorted in descending alphabetical order\n",
    "print(df.sort_index(ascending=False).head(10))"
   ]
  },
  {
   "cell_type": "markdown",
   "metadata": {},
   "source": [
    "### Quick plotting example\n",
    "\n",
    "Construct a graph that visually confirms the quantity theory of money by making a scatter plot with average money growth on the horizontal axis and average inflation on the vertical axis. Set the marker size `s` to 50 and opacity (`alpha`) 0.25. Add a 45 degree line, axis labels, and a title. Lower and upper limits for the horizontal and vertical axes should be -0.2 and 1.2."
   ]
  },
  {
   "cell_type": "code",
   "execution_count": 28,
   "metadata": {},
   "outputs": [
    {
     "data": {
      "image/png": "[encoded data removed]",
      "text/plain": [
       "<Figure size 432x288 with 1 Axes>"
      ]
     },
     "metadata": {
      "needs_background": "light"
     },
     "output_type": "display_data"
    }
   ],
   "source": [
    "# Create data for 45 degree line\n",
    "x45 = [-0.2,1.2]\n",
    "y45 = [-0.2,1.2]\n",
    "\n",
    "# Create figure and axis\n",
    "fig = plt.figure()\n",
    "ax = fig.add_subplot(1,1,1)\n",
    "\n",
    "\n",
    "# Plot 45 degree line and create legend in lower right corner\n",
    "ax.plot(x45,y45,'-r',label = '$45^{\\circ}$')\n",
    "ax.legend(loc='lower right')\n",
    "\n",
    "# Scatter plot of data inflation against money growth\n",
    "ax.scatter(df['money growth'],df['inflation'],s=50,alpha = 0.25)\n",
    "ax.set_xlim([-0.2,1.2])\n",
    "ax.set_ylim([-0.2,1.2])\n",
    "ax.set_xlabel('money growth')\n",
    "ax.set_ylabel('inflation')\n",
    "ax.set_title('Average inflation against average money growth \\nfor '+str(len(df.index))+' countries.')\n",
    "ax.grid()"
   ]
  },
  {
   "cell_type": "markdown",
   "metadata": {},
   "source": [
    "### Exporting a `DataFrame` to csv\n",
    "\n",
    "Use the DataFrame method `to_csv()` to export DataFrame to a csv file."
   ]
  },
  {
   "cell_type": "code",
   "execution_count": 29,
   "metadata": {},
   "outputs": [],
   "source": [
    "# Export the DataFrame 'df' to a csv file called 'modified_data.csv'.\n",
    "df.to_csv('modified_data.csv')"
   ]
  }
 ],
 "metadata": {
  "anaconda-cloud": {},
  "kernelspec": {
   "display_name": "Python 3",
   "language": "python",
   "name": "python3"
  },
  "language_info": {
   "codemirror_mode": {
    "name": "ipython",
    "version": 3
   },
   "file_extension": ".py",
   "mimetype": "text/x-python",
   "name": "python",
   "nbconvert_exporter": "python",
   "pygments_lexer": "ipython3",
   "version": "3.7.2"
  }
 },
 "nbformat": 4,
 "nbformat_minor": 1
}
