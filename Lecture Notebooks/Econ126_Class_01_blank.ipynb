{
    "cells": [
        {
            "cell_type": "markdown",
            "metadata": {},
            "source": [
                "## Example 1: `Hello world`"
            ]
        },
        {
            "cell_type": "code",
            "execution_count": null,
            "metadata": {},
            "outputs": [],
            "source": [
                "# Print the character string `hello world`\n"
            ]
        },
        {
            "cell_type": "markdown",
            "metadata": {},
            "source": [
                "## Example 2: Make a plot of the US unemployment rate\n",
                "\n",
                "Download unemployment rate data from FRED (https://fred.stlouisfed.org/series/UNRATE/) and make a well-labeled plot."
            ]
        },
        {
            "cell_type": "code",
            "execution_count": null,
            "metadata": {},
            "outputs": [],
            "source": [
                "# Import the pandas library as pd\n",
                "\n",
                "\n",
                "# Import the plotting library matplotlib.pyplot as plt\n",
                "\n",
                "\n",
                "# Set plotting style to 'classic' because I like the look\n",
                "\n",
                "\n",
                "# Specify that you want plots displayed in the Jupyter Notebook and not in an external window (IPython magic command)\n",
                "\n",
                "\n",
                "# Download the unemployment rate data (PROVIDED)\n",
                "unemployment = pd.read_csv('https://fred.stlouisfed.org/data/UNRATE.txt',skiprows=24,sep='\\s+',index_col=0,parse_dates = True)\n",
                "\n",
                "# Print first 5 rows of unemployment variable\n"
            ]
        },
        {
            "cell_type": "code",
            "execution_count": null,
            "metadata": {},
            "outputs": [],
            "source": [
                "# Create a well-labeled plot of the US unemployment rate\n",
                "\n",
                "\n",
                "",
                "",
                "",
                "",
                "# Save the figure to the current working directory at 120 dots per inch resolution\n"
            ]
        }
    ],
    "metadata": {
        "anaconda-cloud": {},
        "kernelspec": {
            "display_name": "Python 3",
            "language": "python",
            "name": "python3"
        },
        "language_info": {
            "codemirror_mode": {
                "name": "ipython",
                "version": 3
            },
            "file_extension": ".py",
            "mimetype": "text/x-python",
            "name": "python",
            "nbconvert_exporter": "python",
            "pygments_lexer": "ipython3",
            "version": "3.7.0"
        }
    },
    "nbformat": 4,
    "nbformat_minor": 1
}